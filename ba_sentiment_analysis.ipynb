{
 "cells": [
  {
   "cell_type": "markdown",
   "id": "c3a00049",
   "metadata": {},
   "source": [
    "# British Airways Airline Review\n",
    "\n",
    "Customers who book a flight with BA will experience many interaction points with the BA brand. Understanding a customer's feelings, needs, and feedback is crucial for any business, including BA.\n",
    "\n",
    "This project is focused on scraping and collecting customer feedback and reviewing data from a third-party source and analysing this data to present meaningful insights.\n",
    "\n",
    "Real data was scrapped from skytrax website. The data scrapped is very messy and contains purely text. Data cleaning was performed in order to prepare the data for analysis and uncover insights. "
   ]
  },
  {
   "cell_type": "code",
   "execution_count": 4,
   "id": "6bba0869",
   "metadata": {},
   "outputs": [],
   "source": [
    "import requests\n",
    "from bs4 import BeautifulSoup\n",
    "import pandas as pd\n",
    "import matplotlib.pyplot as plt\n",
    "import seaborn as sns\n",
    "import pandas as pd\n",
    "\n",
    "# Shows plots in jupyter notebook\n",
    "%matplotlib inline\n",
    "\n",
    "# Set plot style\n",
    "sns.set(color_codes=True)"
   ]
  },
  {
   "cell_type": "markdown",
   "id": "4d6b15f0",
   "metadata": {},
   "source": [
    "### Scraping data from Skytrax"
   ]
  },
  {
   "cell_type": "code",
   "execution_count": 2,
   "id": "51a6bff3",
   "metadata": {},
   "outputs": [
    {
     "name": "stdout",
     "output_type": "stream",
     "text": [
      "Scraping page 1\n",
      "   ---> 100 total reviews\n",
      "Scraping page 2\n",
      "   ---> 200 total reviews\n",
      "Scraping page 3\n",
      "   ---> 300 total reviews\n",
      "Scraping page 4\n",
      "   ---> 400 total reviews\n",
      "Scraping page 5\n",
      "   ---> 500 total reviews\n",
      "Scraping page 6\n",
      "   ---> 600 total reviews\n",
      "Scraping page 7\n",
      "   ---> 700 total reviews\n",
      "Scraping page 8\n",
      "   ---> 800 total reviews\n",
      "Scraping page 9\n",
      "   ---> 900 total reviews\n",
      "Scraping page 10\n",
      "   ---> 1000 total reviews\n"
     ]
    }
   ],
   "source": [
    "base_url = \"https://www.airlinequality.com/airline-reviews/british-airways\"\n",
    "pages = 10\n",
    "page_size = 100\n",
    "\n",
    "reviews = []\n",
    "\n",
    "# for i in range(1, pages + 1):\n",
    "for i in range(1, pages + 1):\n",
    "\n",
    "    print(f\"Scraping page {i}\")\n",
    "\n",
    "    # Create URL to collect links from paginated data\n",
    "    url = f\"{base_url}/page/{i}/?sortby=post_date%3ADesc&pagesize={page_size}\"\n",
    "\n",
    "    # Collect HTML data from this page\n",
    "    response = requests.get(url)\n",
    "\n",
    "    # Parse content\n",
    "    content = response.content\n",
    "    parsed_content = BeautifulSoup(content, 'html.parser')\n",
    "    for para in parsed_content.find_all(\"div\", {\"class\": \"text_content\"}):\n",
    "        reviews.append(para.get_text())\n",
    "    \n",
    "    print(f\"   ---> {len(reviews)} total reviews\")"
   ]
  },
  {
   "cell_type": "code",
   "execution_count": 3,
   "id": "01e3f451",
   "metadata": {},
   "outputs": [
    {
     "data": {
      "text/html": [
       "<div>\n",
       "<style scoped>\n",
       "    .dataframe tbody tr th:only-of-type {\n",
       "        vertical-align: middle;\n",
       "    }\n",
       "\n",
       "    .dataframe tbody tr th {\n",
       "        vertical-align: top;\n",
       "    }\n",
       "\n",
       "    .dataframe thead th {\n",
       "        text-align: right;\n",
       "    }\n",
       "</style>\n",
       "<table border=\"1\" class=\"dataframe\">\n",
       "  <thead>\n",
       "    <tr style=\"text-align: right;\">\n",
       "      <th></th>\n",
       "      <th>reviews</th>\n",
       "    </tr>\n",
       "  </thead>\n",
       "  <tbody>\n",
       "    <tr>\n",
       "      <th>0</th>\n",
       "      <td>✅ Trip Verified |  Have no fear when your BA f...</td>\n",
       "    </tr>\n",
       "    <tr>\n",
       "      <th>1</th>\n",
       "      <td>Not Verified |  We have flown BA five times fr...</td>\n",
       "    </tr>\n",
       "    <tr>\n",
       "      <th>2</th>\n",
       "      <td>✅ Trip Verified |  London Heathrow to Istanbul...</td>\n",
       "    </tr>\n",
       "    <tr>\n",
       "      <th>3</th>\n",
       "      <td>Not Verified | Jan 30th, I booked a last-minut...</td>\n",
       "    </tr>\n",
       "    <tr>\n",
       "      <th>4</th>\n",
       "      <td>✅ Trip Verified | I am a British Airways Gold ...</td>\n",
       "    </tr>\n",
       "  </tbody>\n",
       "</table>\n",
       "</div>"
      ],
      "text/plain": [
       "                                             reviews\n",
       "0  ✅ Trip Verified |  Have no fear when your BA f...\n",
       "1  Not Verified |  We have flown BA five times fr...\n",
       "2  ✅ Trip Verified |  London Heathrow to Istanbul...\n",
       "3  Not Verified | Jan 30th, I booked a last-minut...\n",
       "4  ✅ Trip Verified | I am a British Airways Gold ..."
      ]
     },
     "execution_count": 3,
     "metadata": {},
     "output_type": "execute_result"
    }
   ],
   "source": [
    "df = pd.DataFrame()\n",
    "df[\"reviews\"] = reviews\n",
    "df.head()"
   ]
  },
  {
   "cell_type": "markdown",
   "id": "b01e1f54",
   "metadata": {},
   "source": [
    "The dataset for this task is saved as a pandas dataframe df. The loops above collected 1000 reviews by iterating through the paginated pages on the skytrax website."
   ]
  },
  {
   "cell_type": "code",
   "execution_count": 5,
   "id": "aef4bba3",
   "metadata": {},
   "outputs": [],
   "source": [
    "df.to_csv(\"BA_reviews.csv\")"
   ]
  },
  {
   "cell_type": "markdown",
   "id": "91ff9c69",
   "metadata": {},
   "source": [
    "## Data Cleaning\n",
    "\n",
    "### check for missing data"
   ]
  },
  {
   "cell_type": "code",
   "execution_count": 6,
   "id": "e7185627",
   "metadata": {},
   "outputs": [],
   "source": [
    "missing_data = df.isnull()"
   ]
  },
  {
   "cell_type": "code",
   "execution_count": 7,
   "id": "2e601a9b",
   "metadata": {},
   "outputs": [
    {
     "name": "stdout",
     "output_type": "stream",
     "text": [
      "reviews\n",
      "False    1000\n",
      "Name: reviews, dtype: int64\n",
      "\n"
     ]
    }
   ],
   "source": [
    "for column in missing_data.columns.values.tolist():\n",
    "    print(column)\n",
    "    print (missing_data[column].value_counts())\n",
    "    print(\"\")"
   ]
  },
  {
   "cell_type": "code",
   "execution_count": 8,
   "id": "d9a9dd2f",
   "metadata": {},
   "outputs": [],
   "source": [
    "split_text = df[\"reviews\"].str.split(\"|\")"
   ]
  },
  {
   "cell_type": "code",
   "execution_count": 9,
   "id": "d0a11d49",
   "metadata": {},
   "outputs": [
    {
     "data": {
      "text/plain": [
       "0      [✅ Trip Verified ,   Have no fear when your BA...\n",
       "1      [Not Verified ,   We have flown BA five times ...\n",
       "2      [✅ Trip Verified ,   London Heathrow to Istanb...\n",
       "3      [Not Verified ,  Jan 30th, I booked a last-min...\n",
       "4      [✅ Trip Verified ,  I am a British Airways Gol...\n",
       "                             ...                        \n",
       "995    [✅ Trip Verified ,   Gatwick to St Lucia retur...\n",
       "996    [✅ Trip Verified ,   It's been many years sinc...\n",
       "997    [✅ Trip Verified ,  \\r\\nLondon Heathrow / Pisa...\n",
       "998    [✅ Trip Verified ,  Edinburgh to Boston via Lo...\n",
       "999    [✅ Trip Verified ,   Gatwick to Mauritius. My ...\n",
       "Name: reviews, Length: 1000, dtype: object"
      ]
     },
     "execution_count": 9,
     "metadata": {},
     "output_type": "execute_result"
    }
   ],
   "source": [
    "split_text"
   ]
  },
  {
   "cell_type": "code",
   "execution_count": 10,
   "id": "83ae37ec",
   "metadata": {},
   "outputs": [],
   "source": [
    "df_clean = split_text.str[1].str.lstrip()"
   ]
  },
  {
   "cell_type": "code",
   "execution_count": 11,
   "id": "3af20684",
   "metadata": {},
   "outputs": [
    {
     "data": {
      "text/plain": [
       "0      Have no fear when your BA flight is operated b...\n",
       "1      We have flown BA five times from western USA t...\n",
       "2      London Heathrow to Istanbul at the start of th...\n",
       "3      Jan 30th, I booked a last-minute, transatlanti...\n",
       "4      I am a British Airways Gold Guest List member ...\n",
       "                             ...                        \n",
       "995    Gatwick to St Lucia return. Recently returned ...\n",
       "996    It's been many years since I flew long haul Br...\n",
       "997    London Heathrow / Pisa return. My wife and I f...\n",
       "998    Edinburgh to Boston via London. The planes are...\n",
       "999    Gatwick to Mauritius. My wife and 2 friends bo...\n",
       "Name: reviews, Length: 1000, dtype: object"
      ]
     },
     "execution_count": 11,
     "metadata": {},
     "output_type": "execute_result"
    }
   ],
   "source": [
    "df_clean"
   ]
  },
  {
   "cell_type": "code",
   "execution_count": 12,
   "id": "201b4608",
   "metadata": {},
   "outputs": [],
   "source": [
    "df_clean.to_csv(\"BA_reviews_Clean.csv\")"
   ]
  },
  {
   "cell_type": "markdown",
   "id": "f085c92d",
   "metadata": {},
   "source": [
    "## Sentiment Analysis"
   ]
  },
  {
   "cell_type": "code",
   "execution_count": 16,
   "id": "81f7bd8b",
   "metadata": {},
   "outputs": [
    {
     "name": "stdout",
     "output_type": "stream",
     "text": [
      "Dear Community I feel compelled to share the utter frustration and disappointment that defined my recent travel experience with British Airways. Buckle up, folks; this one's a rollercoaster. On July 16 and 17, 2023, I had the displeasure of flying with British Airways on BA709 and BA7, and let me tell you, it was a nightmare. The initial flight from Zurich (ZRH) to London (LHR) on BA709 faced a seemingly unavoidable one-hour delay upon arrival at LHR. This, of course, resulted in me missing my connection to Tokyo, triggering an automatic rescheduling of my flight to Tokyo (HND) via Beijing with Air China. Oh, but the fun didn't stop there — flight CA183 was also delayed, turning my 16-hour delay into a grand total of 23 hours, finally arriving in Tokyo at 23:00 instead of the promised 7:10. And the cherry on top? My four checked-in suitcases decided to take a detour and didn't join me in Tokyo, forcing me to waste an additional two hours filling out forms at the baggage center. I finally got my lost luggage back on July 23, because why make it easy, right? But wait, there's more! My return flight from Tokyo to Zurich (BA8) on August 8 also danced to the delay tune, making me question if punctuality is just a myth for British Airways. The cumulative impact of these delays torpedoed my vacation plans, stealing a whole day of scheduled activities, including a guided Tokyo tour. As if that weren't enough, I had to dig deeper into my pockets for unforeseen expenses—extra airport transfers, tour operator assistance fees, emergency purchases, airport meals, and international calls for rearrangements. The lack of assistance at LHR airport was the icing on this bitter cake. Installing the BA app just to get basic information about alternative connection flights was a hassle, and the fact that no BA clerk could provide this info in person was downright infuriating. British Airways, you've left me with a sour taste in my mouth and a dent in my wallet. Here's hoping you take this feedback seriously and step up your game because right now, it's not a good look. Frustrated and fed up, Bert\n"
     ]
    }
   ],
   "source": [
    "example = df_clean[50]\n",
    "print(example)"
   ]
  },
  {
   "cell_type": "code",
   "execution_count": 5,
   "id": "0b55ce23",
   "metadata": {},
   "outputs": [],
   "source": [
    "# import libraries\n",
    "import pandas as pd\n",
    "import nltk\n",
    "from nltk.sentiment.vader import SentimentIntensityAnalyzer\n",
    "from nltk.corpus import stopwords\n",
    "from nltk.tokenize import word_tokenize\n",
    "from nltk.stem import WordNetLemmatizer\n",
    "from tqdm.notebook import tqdm"
   ]
  },
  {
   "cell_type": "code",
   "execution_count": 19,
   "id": "94b0db77",
   "metadata": {},
   "outputs": [
    {
     "data": {
      "text/plain": [
       "['Dear',\n",
       " 'Community',\n",
       " 'I',\n",
       " 'feel',\n",
       " 'compelled',\n",
       " 'to',\n",
       " 'share',\n",
       " 'the',\n",
       " 'utter',\n",
       " 'frustration']"
      ]
     },
     "execution_count": 19,
     "metadata": {},
     "output_type": "execute_result"
    }
   ],
   "source": [
    "tokens = nltk.word_tokenize(example)\n",
    "tokens[:10]"
   ]
  },
  {
   "cell_type": "markdown",
   "id": "4e8df734",
   "metadata": {},
   "source": [
    "## Using NLTK VADER sentiment scoring\n",
    "\n",
    "Here, nltk SentimentIntensityAnalyzer is used to get the neg/neu/pos scores of the text.\n",
    "\n",
    "- This  uses bag of words approach\n",
    "- 1. stop words are removed.\n",
    "- 2. each word is scored and combined to a total score"
   ]
  },
  {
   "cell_type": "markdown",
   "id": "938456b7",
   "metadata": {},
   "source": [
    "## Preprocessing function"
   ]
  },
  {
   "cell_type": "code",
   "execution_count": 6,
   "id": "9cfa3742",
   "metadata": {},
   "outputs": [],
   "source": [
    "# create preprocess_text function\n",
    "def preprocess_text(text):\n",
    "\n",
    "    # Tokenize the text\n",
    "\n",
    "    tokens = word_tokenize(text.lower())\n",
    "\n",
    "    # Remove stop words\n",
    "\n",
    "    filtered_tokens = [token for token in tokens if token not in stopwords.words('english')]\n",
    "\n",
    "    # Lemmatize the tokens\n",
    "\n",
    "    lemmatizer = WordNetLemmatizer()\n",
    "\n",
    "    lemmatized_tokens = [lemmatizer.lemmatize(token) for token in filtered_tokens]\n",
    "\n",
    "    # Join the tokens back into a string\n",
    "\n",
    "    processed_text = ' '.join(lemmatized_tokens)\n",
    "\n",
    "    return processed_text\n",
    "\n",
    "\n",
    "# initialize NLTK sentiment analyzer\n",
    "\n",
    "analyzer = SentimentIntensityAnalyzer()\n",
    "\n",
    "# create get_sentiment function\n",
    "\n",
    "def get_sentiment(text):\n",
    "\n",
    "    scores = analyzer.polarity_scores(text)\n",
    "\n",
    "    sentiment = 1 if scores['compound'] > 0 else 0\n",
    "\n",
    "    return sentiment"
   ]
  },
  {
   "cell_type": "code",
   "execution_count": 26,
   "id": "fd5e4e3a",
   "metadata": {},
   "outputs": [
    {
     "data": {
      "text/html": [
       "<div>\n",
       "<style scoped>\n",
       "    .dataframe tbody tr th:only-of-type {\n",
       "        vertical-align: middle;\n",
       "    }\n",
       "\n",
       "    .dataframe tbody tr th {\n",
       "        vertical-align: top;\n",
       "    }\n",
       "\n",
       "    .dataframe thead th {\n",
       "        text-align: right;\n",
       "    }\n",
       "</style>\n",
       "<table border=\"1\" class=\"dataframe\">\n",
       "  <thead>\n",
       "    <tr style=\"text-align: right;\">\n",
       "      <th></th>\n",
       "      <th>Unnamed: 0</th>\n",
       "      <th>reviews</th>\n",
       "    </tr>\n",
       "  </thead>\n",
       "  <tbody>\n",
       "    <tr>\n",
       "      <th>0</th>\n",
       "      <td>0</td>\n",
       "      <td>Have no fear when your BA flight is operated b...</td>\n",
       "    </tr>\n",
       "    <tr>\n",
       "      <th>1</th>\n",
       "      <td>1</td>\n",
       "      <td>We have flown BA five times from western USA t...</td>\n",
       "    </tr>\n",
       "    <tr>\n",
       "      <th>2</th>\n",
       "      <td>2</td>\n",
       "      <td>London Heathrow to Istanbul at the start of th...</td>\n",
       "    </tr>\n",
       "    <tr>\n",
       "      <th>3</th>\n",
       "      <td>3</td>\n",
       "      <td>Jan 30th, I booked a last-minute, transatlanti...</td>\n",
       "    </tr>\n",
       "    <tr>\n",
       "      <th>4</th>\n",
       "      <td>4</td>\n",
       "      <td>I am a British Airways Gold Guest List member ...</td>\n",
       "    </tr>\n",
       "    <tr>\n",
       "      <th>...</th>\n",
       "      <td>...</td>\n",
       "      <td>...</td>\n",
       "    </tr>\n",
       "    <tr>\n",
       "      <th>995</th>\n",
       "      <td>995</td>\n",
       "      <td>Gatwick to St Lucia return. Recently returned ...</td>\n",
       "    </tr>\n",
       "    <tr>\n",
       "      <th>996</th>\n",
       "      <td>996</td>\n",
       "      <td>It's been many years since I flew long haul Br...</td>\n",
       "    </tr>\n",
       "    <tr>\n",
       "      <th>997</th>\n",
       "      <td>997</td>\n",
       "      <td>London Heathrow / Pisa return. My wife and I f...</td>\n",
       "    </tr>\n",
       "    <tr>\n",
       "      <th>998</th>\n",
       "      <td>998</td>\n",
       "      <td>Edinburgh to Boston via London. The planes are...</td>\n",
       "    </tr>\n",
       "    <tr>\n",
       "      <th>999</th>\n",
       "      <td>999</td>\n",
       "      <td>Gatwick to Mauritius. My wife and 2 friends bo...</td>\n",
       "    </tr>\n",
       "  </tbody>\n",
       "</table>\n",
       "<p>1000 rows × 2 columns</p>\n",
       "</div>"
      ],
      "text/plain": [
       "     Unnamed: 0                                            reviews\n",
       "0             0  Have no fear when your BA flight is operated b...\n",
       "1             1  We have flown BA five times from western USA t...\n",
       "2             2  London Heathrow to Istanbul at the start of th...\n",
       "3             3  Jan 30th, I booked a last-minute, transatlanti...\n",
       "4             4  I am a British Airways Gold Guest List member ...\n",
       "..          ...                                                ...\n",
       "995         995  Gatwick to St Lucia return. Recently returned ...\n",
       "996         996  It's been many years since I flew long haul Br...\n",
       "997         997  London Heathrow / Pisa return. My wife and I f...\n",
       "998         998  Edinburgh to Boston via London. The planes are...\n",
       "999         999  Gatwick to Mauritius. My wife and 2 friends bo...\n",
       "\n",
       "[1000 rows x 2 columns]"
      ]
     },
     "execution_count": 26,
     "metadata": {},
     "output_type": "execute_result"
    }
   ],
   "source": [
    "df_saved = pd.read_csv(\"BA_reviews_Clean.csv\")\n",
    "df_saved"
   ]
  },
  {
   "cell_type": "code",
   "execution_count": 27,
   "id": "927146fb",
   "metadata": {},
   "outputs": [
    {
     "data": {
      "text/html": [
       "<div>\n",
       "<style scoped>\n",
       "    .dataframe tbody tr th:only-of-type {\n",
       "        vertical-align: middle;\n",
       "    }\n",
       "\n",
       "    .dataframe tbody tr th {\n",
       "        vertical-align: top;\n",
       "    }\n",
       "\n",
       "    .dataframe thead th {\n",
       "        text-align: right;\n",
       "    }\n",
       "</style>\n",
       "<table border=\"1\" class=\"dataframe\">\n",
       "  <thead>\n",
       "    <tr style=\"text-align: right;\">\n",
       "      <th></th>\n",
       "      <th>Unnamed: 0</th>\n",
       "      <th>reviews</th>\n",
       "    </tr>\n",
       "  </thead>\n",
       "  <tbody>\n",
       "    <tr>\n",
       "      <th>0</th>\n",
       "      <td>0</td>\n",
       "      <td>fear ba flight operated finnair . business cla...</td>\n",
       "    </tr>\n",
       "    <tr>\n",
       "      <th>1</th>\n",
       "      <td>1</td>\n",
       "      <td>flown ba five time western usa england . alway...</td>\n",
       "    </tr>\n",
       "    <tr>\n",
       "      <th>2</th>\n",
       "      <td>2</td>\n",
       "      <td>london heathrow istanbul start half-term schoo...</td>\n",
       "    </tr>\n",
       "    <tr>\n",
       "      <th>3</th>\n",
       "      <td>3</td>\n",
       "      <td>jan 30th , booked last-minute , transatlantic ...</td>\n",
       "    </tr>\n",
       "    <tr>\n",
       "      <th>4</th>\n",
       "      <td>4</td>\n",
       "      <td>british airway gold guest list member ( lifeti...</td>\n",
       "    </tr>\n",
       "    <tr>\n",
       "      <th>...</th>\n",
       "      <td>...</td>\n",
       "      <td>...</td>\n",
       "    </tr>\n",
       "    <tr>\n",
       "      <th>995</th>\n",
       "      <td>995</td>\n",
       "      <td>gatwick st lucia return . recently returned tw...</td>\n",
       "    </tr>\n",
       "    <tr>\n",
       "      <th>996</th>\n",
       "      <td>996</td>\n",
       "      <td>'s many year since flew long haul british airw...</td>\n",
       "    </tr>\n",
       "    <tr>\n",
       "      <th>997</th>\n",
       "      <td>997</td>\n",
       "      <td>london heathrow / pisa return . wife fly route...</td>\n",
       "    </tr>\n",
       "    <tr>\n",
       "      <th>998</th>\n",
       "      <td>998</td>\n",
       "      <td>edinburgh boston via london . plane ancient ne...</td>\n",
       "    </tr>\n",
       "    <tr>\n",
       "      <th>999</th>\n",
       "      <td>999</td>\n",
       "      <td>gatwick mauritius . wife 2 friend booked paid ...</td>\n",
       "    </tr>\n",
       "  </tbody>\n",
       "</table>\n",
       "<p>1000 rows × 2 columns</p>\n",
       "</div>"
      ],
      "text/plain": [
       "     Unnamed: 0                                            reviews\n",
       "0             0  fear ba flight operated finnair . business cla...\n",
       "1             1  flown ba five time western usa england . alway...\n",
       "2             2  london heathrow istanbul start half-term schoo...\n",
       "3             3  jan 30th , booked last-minute , transatlantic ...\n",
       "4             4  british airway gold guest list member ( lifeti...\n",
       "..          ...                                                ...\n",
       "995         995  gatwick st lucia return . recently returned tw...\n",
       "996         996  's many year since flew long haul british airw...\n",
       "997         997  london heathrow / pisa return . wife fly route...\n",
       "998         998  edinburgh boston via london . plane ancient ne...\n",
       "999         999  gatwick mauritius . wife 2 friend booked paid ...\n",
       "\n",
       "[1000 rows x 2 columns]"
      ]
     },
     "execution_count": 27,
     "metadata": {},
     "output_type": "execute_result"
    }
   ],
   "source": [
    "df_saved['reviews'] = df_saved['reviews'].apply(preprocess_text)\n",
    "df_saved"
   ]
  },
  {
   "cell_type": "code",
   "execution_count": 123,
   "id": "6b68cad5",
   "metadata": {
    "scrolled": true
   },
   "outputs": [
    {
     "data": {
      "text/html": [
       "<div>\n",
       "<style scoped>\n",
       "    .dataframe tbody tr th:only-of-type {\n",
       "        vertical-align: middle;\n",
       "    }\n",
       "\n",
       "    .dataframe tbody tr th {\n",
       "        vertical-align: top;\n",
       "    }\n",
       "\n",
       "    .dataframe thead th {\n",
       "        text-align: right;\n",
       "    }\n",
       "</style>\n",
       "<table border=\"1\" class=\"dataframe\">\n",
       "  <thead>\n",
       "    <tr style=\"text-align: right;\">\n",
       "      <th></th>\n",
       "      <th>Unnamed: 0</th>\n",
       "      <th>reviews</th>\n",
       "      <th>sentiment</th>\n",
       "    </tr>\n",
       "  </thead>\n",
       "  <tbody>\n",
       "    <tr>\n",
       "      <th>0</th>\n",
       "      <td>0</td>\n",
       "      <td>fear ba flight operated finnair . business cla...</td>\n",
       "      <td>1</td>\n",
       "    </tr>\n",
       "    <tr>\n",
       "      <th>1</th>\n",
       "      <td>1</td>\n",
       "      <td>flown ba five time western usa england . alway...</td>\n",
       "      <td>0</td>\n",
       "    </tr>\n",
       "    <tr>\n",
       "      <th>2</th>\n",
       "      <td>2</td>\n",
       "      <td>london heathrow istanbul start half-term schoo...</td>\n",
       "      <td>1</td>\n",
       "    </tr>\n",
       "    <tr>\n",
       "      <th>3</th>\n",
       "      <td>3</td>\n",
       "      <td>jan 30th , booked last-minute , transatlantic ...</td>\n",
       "      <td>0</td>\n",
       "    </tr>\n",
       "    <tr>\n",
       "      <th>4</th>\n",
       "      <td>4</td>\n",
       "      <td>british airway gold guest list member ( lifeti...</td>\n",
       "      <td>1</td>\n",
       "    </tr>\n",
       "    <tr>\n",
       "      <th>...</th>\n",
       "      <td>...</td>\n",
       "      <td>...</td>\n",
       "      <td>...</td>\n",
       "    </tr>\n",
       "    <tr>\n",
       "      <th>995</th>\n",
       "      <td>995</td>\n",
       "      <td>gatwick st lucia return . recently returned tw...</td>\n",
       "      <td>0</td>\n",
       "    </tr>\n",
       "    <tr>\n",
       "      <th>996</th>\n",
       "      <td>996</td>\n",
       "      <td>'s many year since flew long haul british airw...</td>\n",
       "      <td>1</td>\n",
       "    </tr>\n",
       "    <tr>\n",
       "      <th>997</th>\n",
       "      <td>997</td>\n",
       "      <td>london heathrow / pisa return . wife fly route...</td>\n",
       "      <td>1</td>\n",
       "    </tr>\n",
       "    <tr>\n",
       "      <th>998</th>\n",
       "      <td>998</td>\n",
       "      <td>edinburgh boston via london . plane ancient ne...</td>\n",
       "      <td>0</td>\n",
       "    </tr>\n",
       "    <tr>\n",
       "      <th>999</th>\n",
       "      <td>999</td>\n",
       "      <td>gatwick mauritius . wife 2 friend booked paid ...</td>\n",
       "      <td>0</td>\n",
       "    </tr>\n",
       "  </tbody>\n",
       "</table>\n",
       "<p>1000 rows × 3 columns</p>\n",
       "</div>"
      ],
      "text/plain": [
       "     Unnamed: 0                                            reviews  sentiment\n",
       "0             0  fear ba flight operated finnair . business cla...          1\n",
       "1             1  flown ba five time western usa england . alway...          0\n",
       "2             2  london heathrow istanbul start half-term schoo...          1\n",
       "3             3  jan 30th , booked last-minute , transatlantic ...          0\n",
       "4             4  british airway gold guest list member ( lifeti...          1\n",
       "..          ...                                                ...        ...\n",
       "995         995  gatwick st lucia return . recently returned tw...          0\n",
       "996         996  's many year since flew long haul british airw...          1\n",
       "997         997  london heathrow / pisa return . wife fly route...          1\n",
       "998         998  edinburgh boston via london . plane ancient ne...          0\n",
       "999         999  gatwick mauritius . wife 2 friend booked paid ...          0\n",
       "\n",
       "[1000 rows x 3 columns]"
      ]
     },
     "execution_count": 123,
     "metadata": {},
     "output_type": "execute_result"
    }
   ],
   "source": [
    "# apply get_sentiment function\n",
    "\n",
    "df_saved['sentiment'] = df_saved['reviews'].apply(get_sentiment)\n",
    "\n",
    "df_saved"
   ]
  },
  {
   "cell_type": "markdown",
   "id": "f770ebb4",
   "metadata": {},
   "source": [
    "### Get the Pos,Neg and Neutral Sentiment values"
   ]
  },
  {
   "cell_type": "code",
   "execution_count": 146,
   "id": "9b6a551c",
   "metadata": {},
   "outputs": [],
   "source": [
    "df_saved.to_csv(\"tokenize.csv\")"
   ]
  },
  {
   "cell_type": "code",
   "execution_count": 7,
   "id": "b6ffb0ea",
   "metadata": {},
   "outputs": [],
   "source": [
    "df_token = pd.read_csv(\"tokenize.csv\")\n"
   ]
  },
  {
   "cell_type": "code",
   "execution_count": 8,
   "id": "d5cf8be9",
   "metadata": {},
   "outputs": [],
   "source": [
    "res = {}\n",
    "for i in df_token['id']:\n",
    "    text = df_token['reviews'][i]\n",
    "    res[i] = analyzer.polarity_scores(text)\n",
    "    \n"
   ]
  },
  {
   "cell_type": "code",
   "execution_count": 9,
   "id": "eb7361fd",
   "metadata": {},
   "outputs": [
    {
     "data": {
      "text/html": [
       "<div>\n",
       "<style scoped>\n",
       "    .dataframe tbody tr th:only-of-type {\n",
       "        vertical-align: middle;\n",
       "    }\n",
       "\n",
       "    .dataframe tbody tr th {\n",
       "        vertical-align: top;\n",
       "    }\n",
       "\n",
       "    .dataframe thead th {\n",
       "        text-align: right;\n",
       "    }\n",
       "</style>\n",
       "<table border=\"1\" class=\"dataframe\">\n",
       "  <thead>\n",
       "    <tr style=\"text-align: right;\">\n",
       "      <th></th>\n",
       "      <th>neg</th>\n",
       "      <th>neu</th>\n",
       "      <th>pos</th>\n",
       "      <th>compound</th>\n",
       "    </tr>\n",
       "  </thead>\n",
       "  <tbody>\n",
       "    <tr>\n",
       "      <th>0</th>\n",
       "      <td>0.131</td>\n",
       "      <td>0.643</td>\n",
       "      <td>0.226</td>\n",
       "      <td>0.6124</td>\n",
       "    </tr>\n",
       "    <tr>\n",
       "      <th>1</th>\n",
       "      <td>0.077</td>\n",
       "      <td>0.837</td>\n",
       "      <td>0.085</td>\n",
       "      <td>-0.0976</td>\n",
       "    </tr>\n",
       "    <tr>\n",
       "      <th>2</th>\n",
       "      <td>0.121</td>\n",
       "      <td>0.730</td>\n",
       "      <td>0.149</td>\n",
       "      <td>0.6651</td>\n",
       "    </tr>\n",
       "    <tr>\n",
       "      <th>3</th>\n",
       "      <td>0.247</td>\n",
       "      <td>0.602</td>\n",
       "      <td>0.151</td>\n",
       "      <td>-0.9479</td>\n",
       "    </tr>\n",
       "    <tr>\n",
       "      <th>4</th>\n",
       "      <td>0.117</td>\n",
       "      <td>0.722</td>\n",
       "      <td>0.160</td>\n",
       "      <td>0.7184</td>\n",
       "    </tr>\n",
       "    <tr>\n",
       "      <th>...</th>\n",
       "      <td>...</td>\n",
       "      <td>...</td>\n",
       "      <td>...</td>\n",
       "      <td>...</td>\n",
       "    </tr>\n",
       "    <tr>\n",
       "      <th>995</th>\n",
       "      <td>0.135</td>\n",
       "      <td>0.782</td>\n",
       "      <td>0.084</td>\n",
       "      <td>-0.8555</td>\n",
       "    </tr>\n",
       "    <tr>\n",
       "      <th>996</th>\n",
       "      <td>0.000</td>\n",
       "      <td>0.783</td>\n",
       "      <td>0.217</td>\n",
       "      <td>0.9822</td>\n",
       "    </tr>\n",
       "    <tr>\n",
       "      <th>997</th>\n",
       "      <td>0.076</td>\n",
       "      <td>0.712</td>\n",
       "      <td>0.213</td>\n",
       "      <td>0.9910</td>\n",
       "    </tr>\n",
       "    <tr>\n",
       "      <th>998</th>\n",
       "      <td>0.180</td>\n",
       "      <td>0.720</td>\n",
       "      <td>0.100</td>\n",
       "      <td>-0.8849</td>\n",
       "    </tr>\n",
       "    <tr>\n",
       "      <th>999</th>\n",
       "      <td>0.143</td>\n",
       "      <td>0.747</td>\n",
       "      <td>0.110</td>\n",
       "      <td>-0.7003</td>\n",
       "    </tr>\n",
       "  </tbody>\n",
       "</table>\n",
       "<p>1000 rows × 4 columns</p>\n",
       "</div>"
      ],
      "text/plain": [
       "       neg    neu    pos  compound\n",
       "0    0.131  0.643  0.226    0.6124\n",
       "1    0.077  0.837  0.085   -0.0976\n",
       "2    0.121  0.730  0.149    0.6651\n",
       "3    0.247  0.602  0.151   -0.9479\n",
       "4    0.117  0.722  0.160    0.7184\n",
       "..     ...    ...    ...       ...\n",
       "995  0.135  0.782  0.084   -0.8555\n",
       "996  0.000  0.783  0.217    0.9822\n",
       "997  0.076  0.712  0.213    0.9910\n",
       "998  0.180  0.720  0.100   -0.8849\n",
       "999  0.143  0.747  0.110   -0.7003\n",
       "\n",
       "[1000 rows x 4 columns]"
      ]
     },
     "execution_count": 9,
     "metadata": {},
     "output_type": "execute_result"
    }
   ],
   "source": [
    "pd.DataFrame(res).T"
   ]
  },
  {
   "cell_type": "markdown",
   "id": "697ecd33",
   "metadata": {},
   "source": [
    "### Function to plot stacked bar chart"
   ]
  },
  {
   "cell_type": "code",
   "execution_count": 151,
   "id": "839c1c8c",
   "metadata": {},
   "outputs": [],
   "source": [
    "def plot_stacked_bars(dataframe, title_, size_=(18, 10), rot_=0, legend_=\"upper right\"):\n",
    "    \"\"\"\n",
    "    Plot stacked bars with annotations\n",
    "    \"\"\"\n",
    "    ax = dataframe.plot(\n",
    "        kind=\"bar\",\n",
    "        stacked=True,\n",
    "        figsize=size_,\n",
    "        rot=rot_,\n",
    "        title=title_\n",
    "    )\n",
    "\n",
    "    # Annotate bars\n",
    "    annotate_stacked_bars(ax, textsize=14)\n",
    "    # Rename legend\n",
    "    plt.legend([\"Neg\", \"Pos\"], loc=legend_)\n",
    "    # Labels\n",
    "    plt.ylabel(\"Sentiment %\")\n",
    "    plt.show()\n",
    "\n",
    "def annotate_stacked_bars(ax, pad=0.99, colour=\"white\", textsize=13):\n",
    "    \"\"\"\n",
    "    Add value annotations to the bars\n",
    "    \"\"\"\n",
    "\n",
    "    # Iterate over the plotted rectanges/bars\n",
    "    for p in ax.patches:\n",
    "        \n",
    "        # Calculate annotation\n",
    "        value = str(round(p.get_height(),1))\n",
    "        # If value is 0 do not annotate\n",
    "        if value == '0.0':\n",
    "            continue\n",
    "        ax.annotate(\n",
    "            value,\n",
    "            ((p.get_x()+ p.get_width()/2)*pad-0.05, (p.get_y()+p.get_height()/2)*pad),\n",
    "            color=colour,\n",
    "            size=textsize\n",
    "        )"
   ]
  },
  {
   "cell_type": "code",
   "execution_count": 152,
   "id": "2dfd3e97",
   "metadata": {},
   "outputs": [
    {
     "data": {
      "image/png": "[encoded data removed]",
      "text/plain": [
       "<Figure size 500x500 with 1 Axes>"
      ]
     },
     "metadata": {},
     "output_type": "display_data"
    }
   ],
   "source": [
    "senti = df_token[['id', 'sentiment']]\n",
    "senti.columns = ['Reviews', 'sentiment']\n",
    "sentiment_total = senti.groupby(senti['sentiment']).count()\n",
    "sentiment_percentage = sentiment_total / sentiment_total.sum() * 100\n",
    "plot_stacked_bars(sentiment_percentage.transpose(), \"Sentiment status\", (5, 5), legend_=\"lower right\")"
   ]
  },
  {
   "cell_type": "markdown",
   "id": "26c2471a",
   "metadata": {},
   "source": [
    "From the figure above, we can see that out of 1000 reviews analysed, about 57% were positive and 43% were negative. some of the reviews were also neutral."
   ]
  },
  {
   "cell_type": "code",
   "execution_count": null,
   "id": "b9299ce0",
   "metadata": {},
   "outputs": [],
   "source": []
  }
 ],
 "metadata": {
  "kernelspec": {
   "display_name": "Python 3 (ipykernel)",
   "language": "python",
   "name": "python3"
  },
  "language_info": {
   "codemirror_mode": {
    "name": "ipython",
    "version": 3
   },
   "file_extension": ".py",
   "mimetype": "text/x-python",
   "name": "python",
   "nbconvert_exporter": "python",
   "pygments_lexer": "ipython3",
   "version": "3.11.3"
  }
 },
 "nbformat": 4,
 "nbformat_minor": 5
}
